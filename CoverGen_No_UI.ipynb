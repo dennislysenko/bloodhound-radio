{
  "cells": [
    {
      "cell_type": "markdown",
      "metadata": {
        "id": "view-in-github",
        "colab_type": "text"
      },
      "source": [
        "<a href=\"https://colab.research.google.com/github/dennislysenko/bloodhound-radio/blob/master/CoverGen_No_UI.ipynb\" target=\"_parent\"><img src=\"https://colab.research.google.com/assets/colab-badge.svg\" alt=\"Open In Colab\"/></a>"
      ]
    },
    {
      "cell_type": "markdown",
      "source": [
        "https://github.com/ardha27/AICoverGen-NoUI-Colab"
      ],
      "metadata": {
        "id": "PNIn-NKDjYJ3"
      }
    },
    {
      "cell_type": "code",
      "execution_count": 4,
      "metadata": {
        "id": "9pc1cXR_MSZ3",
        "colab": {
          "base_uri": "https://localhost:8080/"
        },
        "outputId": "7c9aa26e-5aa8-4949-9ffc-d59b4f773383"
      },
      "outputs": [
        {
          "output_type": "stream",
          "name": "stdout",
          "text": [
            "Cloning into 'AICoverGen'...\n",
            "remote: Enumerating objects: 375, done.\u001b[K\n",
            "remote: Counting objects: 100% (212/212), done.\u001b[K\n",
            "remote: Compressing objects: 100% (74/74), done.\u001b[K\n",
            "remote: Total 375 (delta 141), reused 138 (delta 138), pack-reused 163 (from 1)\u001b[K\n",
            "Receiving objects: 100% (375/375), 1.81 MiB | 26.80 MiB/s, done.\n",
            "Resolving deltas: 100% (236/236), done.\n",
            "/content/AICoverGen\n"
          ]
        }
      ],
      "source": [
        "#@title Clone repository\n",
        "!git clone https://github.com/SociallyIneptWeeb/AICoverGen.git\n",
        "%cd AICoverGen"
      ]
    },
    {
      "cell_type": "code",
      "source": [
        "#@title Install Python 3.9\n",
        "!apt-get update\n",
        "!apt-get install python3.9 python3.9-distutils\n",
        "!update-alternatives --install /usr/local/bin/python3 python3 /usr/bin/python3.9 1\n",
        "!update-alternatives --config python3\n",
        "!python3 --version\n"
      ],
      "metadata": {
        "id": "jRaymu0XfTpW",
        "outputId": "c1e7f33e-a6c8-43fa-b8c6-2f45af5be4c1",
        "colab": {
          "base_uri": "https://localhost:8080/"
        }
      },
      "execution_count": 27,
      "outputs": [
        {
          "output_type": "stream",
          "name": "stdout",
          "text": [
            "\r0% [Working]\r            \rHit:1 https://cloud.r-project.org/bin/linux/ubuntu jammy-cran40/ InRelease\n",
            "\r0% [Connecting to archive.ubuntu.com] [Connecting to security.ubuntu.com (91.18\r                                                                               \rHit:2 https://developer.download.nvidia.com/compute/cuda/repos/ubuntu2204/x86_64  InRelease\n",
            "\r0% [Connecting to archive.ubuntu.com (91.189.91.82)] [Waiting for headers] [Con\r                                                                               \rHit:3 http://security.ubuntu.com/ubuntu jammy-security InRelease\n",
            "Hit:4 http://archive.ubuntu.com/ubuntu jammy InRelease\n",
            "Hit:5 http://archive.ubuntu.com/ubuntu jammy-updates InRelease\n",
            "Hit:6 http://archive.ubuntu.com/ubuntu jammy-backports InRelease\n",
            "Hit:7 https://r2u.stat.illinois.edu/ubuntu jammy InRelease\n",
            "Hit:8 https://ppa.launchpadcontent.net/deadsnakes/ppa/ubuntu jammy InRelease\n",
            "Hit:9 https://ppa.launchpadcontent.net/graphics-drivers/ppa/ubuntu jammy InRelease\n",
            "Hit:10 https://ppa.launchpadcontent.net/ubuntugis/ppa/ubuntu jammy InRelease\n",
            "Reading package lists... Done\n",
            "W: Skipping acquire of configured file 'main/source/Sources' as repository 'https://r2u.stat.illinois.edu/ubuntu jammy InRelease' does not seem to provide it (sources.list entry misspelt?)\n",
            "Reading package lists... Done\n",
            "Building dependency tree... Done\n",
            "Reading state information... Done\n",
            "python3.9 is already the newest version (3.9.22-1+jammy1).\n",
            "The following NEW packages will be installed:\n",
            "  python3.9-distutils python3.9-lib2to3\n",
            "0 upgraded, 2 newly installed, 0 to remove and 35 not upgraded.\n",
            "Need to get 319 kB of archives.\n",
            "After this operation, 1,234 kB of additional disk space will be used.\n",
            "Get:1 https://ppa.launchpadcontent.net/deadsnakes/ppa/ubuntu jammy/main amd64 python3.9-lib2to3 all 3.9.22-1+jammy1 [127 kB]\n",
            "Get:2 https://ppa.launchpadcontent.net/deadsnakes/ppa/ubuntu jammy/main amd64 python3.9-distutils all 3.9.22-1+jammy1 [193 kB]\n",
            "Fetched 319 kB in 2s (203 kB/s)\n",
            "Selecting previously unselected package python3.9-lib2to3.\n",
            "(Reading database ... 127045 files and directories currently installed.)\n",
            "Preparing to unpack .../python3.9-lib2to3_3.9.22-1+jammy1_all.deb ...\n",
            "Unpacking python3.9-lib2to3 (3.9.22-1+jammy1) ...\n",
            "Selecting previously unselected package python3.9-distutils.\n",
            "Preparing to unpack .../python3.9-distutils_3.9.22-1+jammy1_all.deb ...\n",
            "Unpacking python3.9-distutils (3.9.22-1+jammy1) ...\n",
            "Setting up python3.9-lib2to3 (3.9.22-1+jammy1) ...\n",
            "Setting up python3.9-distutils (3.9.22-1+jammy1) ...\n",
            "Python 3.9.22\n"
          ]
        }
      ]
    },
    {
      "cell_type": "markdown",
      "source": [],
      "metadata": {
        "id": "kbjCpgyGfQTk"
      }
    },
    {
      "cell_type": "code",
      "source": [
        "%%writefile requirements.txt\n",
        "deemix\n",
        "fairseq==0.12.2\n",
        "faiss-cpu==1.7.3\n",
        "ffmpeg-python>=0.2.0\n",
        "gradio==3.39.0\n",
        "lib==4.0.0\n",
        "librosa==0.9.1\n",
        "numpy==1.23.5\n",
        "onnxruntime\n",
        "praat-parselmouth>=0.4.2\n",
        "pedalboard==0.7.7\n",
        "pydub==0.25.1\n",
        "pyworld==0.3.4\n",
        "Requests==2.31.0\n",
        "scipy==1.11.1\n",
        "soundfile==0.12.1\n",
        "--find-links https://download.pytorch.org/whl/torch_stable.html\n",
        "torch==2.0.1+cu118\n",
        "torchcrepe==0.0.20\n",
        "tqdm==4.65.0\n",
        "yt_dlp==2023.7.6\n",
        "sox==1.4.1"
      ],
      "metadata": {
        "colab": {
          "base_uri": "https://localhost:8080/"
        },
        "id": "A8CAKEJ1Zmjx",
        "outputId": "7475bdf9-b341-4d60-b00a-8684485561e1"
      },
      "execution_count": 19,
      "outputs": [
        {
          "output_type": "stream",
          "name": "stdout",
          "text": [
            "Overwriting requirements.txt\n"
          ]
        }
      ]
    },
    {
      "cell_type": "code",
      "execution_count": 32,
      "metadata": {
        "id": "LgBrHbFtMVaa",
        "colab": {
          "base_uri": "https://localhost:8080/"
        },
        "outputId": "adbfa432-3550-406b-cf0c-4611cc29f15c"
      },
      "outputs": [
        {
          "output_type": "stream",
          "name": "stdout",
          "text": [
            "deemix\n",
            "fairseq==0.12.2\n",
            "faiss-cpu==1.7.3\n",
            "ffmpeg-python>=0.2.0\n",
            "gradio==3.39.0\n",
            "lib==4.0.0\n",
            "librosa==0.9.1\n",
            "numpy==1.23.5\n",
            "onnxruntime\n",
            "praat-parselmouth>=0.4.2\n",
            "pedalboard==0.7.7\n",
            "pydub==0.25.1\n",
            "pyworld==0.3.4\n",
            "Requests==2.31.0\n",
            "scipy==1.11.1\n",
            "soundfile==0.12.1\n",
            "--find-links https://download.pytorch.org/whl/torch_stable.html\n",
            "torch==2.0.1+cu118\n",
            "torchcrepe==0.0.20\n",
            "tqdm==4.65.0\n",
            "yt_dlp==2023.7.6\n",
            "sox==1.4.1\n",
            "Looking in links: https://download.pytorch.org/whl/torch_stable.html\n",
            "Requirement already satisfied: torch==2.0.1+cu118 in /usr/local/lib/python3.9/dist-packages (2.0.1+cu118)\n",
            "Hit:1 https://cloud.r-project.org/bin/linux/ubuntu jammy-cran40/ InRelease\n",
            "Hit:2 https://developer.download.nvidia.com/compute/cuda/repos/ubuntu2204/x86_64  InRelease\n",
            "Hit:3 http://security.ubuntu.com/ubuntu jammy-security InRelease\n",
            "Hit:4 http://archive.ubuntu.com/ubuntu jammy InRelease\n",
            "Hit:5 https://r2u.stat.illinois.edu/ubuntu jammy InRelease\n",
            "Hit:6 http://archive.ubuntu.com/ubuntu jammy-updates InRelease\n",
            "Hit:7 http://archive.ubuntu.com/ubuntu jammy-backports InRelease\n",
            "Hit:8 https://ppa.launchpadcontent.net/deadsnakes/ppa/ubuntu jammy InRelease\n",
            "Hit:9 https://ppa.launchpadcontent.net/graphics-drivers/ppa/ubuntu jammy InRelease\n",
            "Hit:10 https://ppa.launchpadcontent.net/ubuntugis/ppa/ubuntu jammy InRelease\n",
            "Reading package lists... Done\n",
            "W: Skipping acquire of configured file 'main/source/Sources' as repository 'https://r2u.stat.illinois.edu/ubuntu jammy InRelease' does not seem to provide it (sources.list entry misspelt?)\n",
            "Reading package lists... Done\n",
            "Building dependency tree... Done\n",
            "Reading state information... Done\n",
            "build-essential is already the newest version (12.9ubuntu3).\n",
            "libasound2-dev is already the newest version (1.2.6.1-1ubuntu1).\n",
            "ffmpeg is already the newest version (7:4.4.2-0ubuntu0.22.04.1).\n",
            "The following additional packages will be installed:\n",
            "  libpython3.9 libpython3.9-dev\n",
            "Suggested packages:\n",
            "  portaudio19-doc\n",
            "The following NEW packages will be installed:\n",
            "  libportaudio2 libportaudiocpp0 libpython3.9 libpython3.9-dev portaudio19-dev\n",
            "  python3.9-dev\n",
            "0 upgraded, 6 newly installed, 0 to remove and 35 not upgraded.\n",
            "Need to get 7,220 kB of archives.\n",
            "After this operation, 27.4 MB of additional disk space will be used.\n",
            "Get:1 http://archive.ubuntu.com/ubuntu jammy/universe amd64 libportaudio2 amd64 19.6.0-1.1 [65.3 kB]\n",
            "Get:2 http://archive.ubuntu.com/ubuntu jammy/universe amd64 libportaudiocpp0 amd64 19.6.0-1.1 [16.1 kB]\n",
            "Get:3 http://archive.ubuntu.com/ubuntu jammy/universe amd64 portaudio19-dev amd64 19.6.0-1.1 [106 kB]\n",
            "Get:4 https://ppa.launchpadcontent.net/deadsnakes/ppa/ubuntu jammy/main amd64 libpython3.9 amd64 3.9.22-1+jammy1 [1,904 kB]\n",
            "Get:5 https://ppa.launchpadcontent.net/deadsnakes/ppa/ubuntu jammy/main amd64 libpython3.9-dev amd64 3.9.22-1+jammy1 [4,628 kB]\n",
            "Get:6 https://ppa.launchpadcontent.net/deadsnakes/ppa/ubuntu jammy/main amd64 python3.9-dev amd64 3.9.22-1+jammy1 [500 kB]\n",
            "Fetched 7,220 kB in 13s (541 kB/s)\n",
            "Selecting previously unselected package libportaudio2:amd64.\n",
            "(Reading database ... 127184 files and directories currently installed.)\n",
            "Preparing to unpack .../0-libportaudio2_19.6.0-1.1_amd64.deb ...\n",
            "Unpacking libportaudio2:amd64 (19.6.0-1.1) ...\n",
            "Selecting previously unselected package libportaudiocpp0:amd64.\n",
            "Preparing to unpack .../1-libportaudiocpp0_19.6.0-1.1_amd64.deb ...\n",
            "Unpacking libportaudiocpp0:amd64 (19.6.0-1.1) ...\n",
            "Selecting previously unselected package libpython3.9:amd64.\n",
            "Preparing to unpack .../2-libpython3.9_3.9.22-1+jammy1_amd64.deb ...\n",
            "Unpacking libpython3.9:amd64 (3.9.22-1+jammy1) ...\n",
            "Selecting previously unselected package libpython3.9-dev:amd64.\n",
            "Preparing to unpack .../3-libpython3.9-dev_3.9.22-1+jammy1_amd64.deb ...\n",
            "Unpacking libpython3.9-dev:amd64 (3.9.22-1+jammy1) ...\n",
            "Selecting previously unselected package portaudio19-dev:amd64.\n",
            "Preparing to unpack .../4-portaudio19-dev_19.6.0-1.1_amd64.deb ...\n",
            "Unpacking portaudio19-dev:amd64 (19.6.0-1.1) ...\n",
            "Selecting previously unselected package python3.9-dev.\n",
            "Preparing to unpack .../5-python3.9-dev_3.9.22-1+jammy1_amd64.deb ...\n",
            "Unpacking python3.9-dev (3.9.22-1+jammy1) ...\n",
            "Setting up libportaudio2:amd64 (19.6.0-1.1) ...\n",
            "Setting up libportaudiocpp0:amd64 (19.6.0-1.1) ...\n",
            "Setting up portaudio19-dev:amd64 (19.6.0-1.1) ...\n",
            "Setting up libpython3.9:amd64 (3.9.22-1+jammy1) ...\n",
            "Setting up libpython3.9-dev:amd64 (3.9.22-1+jammy1) ...\n",
            "Setting up python3.9-dev (3.9.22-1+jammy1) ...\n",
            "Processing triggers for man-db (2.10.2-1) ...\n",
            "Processing triggers for libc-bin (2.35-0ubuntu3.8) ...\n",
            "/sbin/ldconfig.real: /usr/local/lib/libur_loader.so.0 is not a symbolic link\n",
            "\n",
            "/sbin/ldconfig.real: /usr/local/lib/libtbbbind_2_5.so.3 is not a symbolic link\n",
            "\n",
            "/sbin/ldconfig.real: /usr/local/lib/libur_adapter_opencl.so.0 is not a symbolic link\n",
            "\n",
            "/sbin/ldconfig.real: /usr/local/lib/libtbbbind_2_0.so.3 is not a symbolic link\n",
            "\n",
            "/sbin/ldconfig.real: /usr/local/lib/libur_adapter_level_zero.so.0 is not a symbolic link\n",
            "\n",
            "/sbin/ldconfig.real: /usr/local/lib/libhwloc.so.15 is not a symbolic link\n",
            "\n",
            "/sbin/ldconfig.real: /usr/local/lib/libtbbbind.so.3 is not a symbolic link\n",
            "\n",
            "/sbin/ldconfig.real: /usr/local/lib/libtcm.so.1 is not a symbolic link\n",
            "\n",
            "/sbin/ldconfig.real: /usr/local/lib/libtbb.so.12 is not a symbolic link\n",
            "\n",
            "/sbin/ldconfig.real: /usr/local/lib/libtbbmalloc_proxy.so.2 is not a symbolic link\n",
            "\n",
            "/sbin/ldconfig.real: /usr/local/lib/libtcm_debug.so.1 is not a symbolic link\n",
            "\n",
            "/sbin/ldconfig.real: /usr/local/lib/libtbbmalloc.so.2 is not a symbolic link\n",
            "\n",
            "/sbin/ldconfig.real: /usr/local/lib/libumf.so.0 is not a symbolic link\n",
            "\n",
            "Collecting fairseq==0.12.2\n",
            "  Using cached fairseq-0.12.2.tar.gz (9.6 MB)\n",
            "  Installing build dependencies ... \u001b[?25l\u001b[?25hdone\n",
            "  Getting requirements to build wheel ... \u001b[?25l\u001b[?25hdone\n",
            "  Installing backend dependencies ... \u001b[?25l\u001b[?25hdone\n",
            "  Preparing metadata (pyproject.toml) ... \u001b[?25l\u001b[?25hdone\n",
            "Building wheels for collected packages: fairseq\n",
            "  Building wheel for fairseq (pyproject.toml) ... \u001b[?25l\u001b[?25hdone\n",
            "  Created wheel for fairseq: filename=fairseq-0.12.2-cp39-cp39-linux_x86_64.whl size=11295742 sha256=64ef7705445ebca598951db5d1cef111cb093795a722b64f3e316ecfe53c4cef\n",
            "  Stored in directory: /root/.cache/pip/wheels/59/35/87/2baf2e4ad37c83fd698c486b3d39f0e7022226fa52ab469c31\n",
            "Successfully built fairseq\n",
            "Installing collected packages: fairseq\n",
            "Successfully installed fairseq-0.12.2\n",
            "Collecting pyworld==0.3.4\n",
            "  Using cached pyworld-0.3.4.tar.gz (251 kB)\n",
            "  Installing build dependencies ... \u001b[?25l\u001b[?25hdone\n",
            "  Getting requirements to build wheel ... \u001b[?25l\u001b[?25hdone\n",
            "  Preparing metadata (pyproject.toml) ... \u001b[?25l\u001b[?25hdone\n",
            "Building wheels for collected packages: pyworld\n",
            "  Building wheel for pyworld (pyproject.toml) ... \u001b[?25l\u001b[?25hdone\n",
            "  Created wheel for pyworld: filename=pyworld-0.3.4-cp39-cp39-linux_x86_64.whl size=864884 sha256=7646161e445e288ba7aed4f8458f47e905a9b6daf92496728e75d8f0b3aa8d23\n",
            "  Stored in directory: /root/.cache/pip/wheels/a6/39/d6/9795ba6a870d5df002834731a9f598b9e84c5ead5b91afceb7\n",
            "Successfully built pyworld\n",
            "Installing collected packages: pyworld\n",
            "Successfully installed pyworld-0.3.4\n",
            "Looking in links: https://download.pytorch.org/whl/torch_stable.html\n",
            "Collecting deemix (from -r requirements.txt (line 1))\n",
            "  Using cached deemix-3.6.6-py3-none-any.whl.metadata (2.2 kB)\n",
            "Requirement already satisfied: fairseq==0.12.2 in /usr/local/lib/python3.9/dist-packages (from -r requirements.txt (line 2)) (0.12.2)\n",
            "Collecting faiss-cpu==1.7.3 (from -r requirements.txt (line 3))\n",
            "  Using cached faiss_cpu-1.7.3-cp39-cp39-manylinux_2_17_x86_64.manylinux2014_x86_64.whl.metadata (1.3 kB)\n",
            "Collecting ffmpeg-python>=0.2.0 (from -r requirements.txt (line 4))\n",
            "  Using cached ffmpeg_python-0.2.0-py3-none-any.whl.metadata (1.7 kB)\n",
            "Collecting gradio==3.39.0 (from -r requirements.txt (line 5))\n",
            "  Using cached gradio-3.39.0-py3-none-any.whl.metadata (17 kB)\n",
            "Collecting lib==4.0.0 (from -r requirements.txt (line 6))\n",
            "  Using cached lib-4.0.0-py3-none-any.whl.metadata (419 bytes)\n",
            "Collecting librosa==0.9.1 (from -r requirements.txt (line 7))\n",
            "  Using cached librosa-0.9.1-py3-none-any.whl.metadata (6.9 kB)\n",
            "Collecting numpy==1.23.5 (from -r requirements.txt (line 8))\n",
            "  Using cached numpy-1.23.5-cp39-cp39-manylinux_2_17_x86_64.manylinux2014_x86_64.whl.metadata (2.3 kB)\n",
            "Collecting onnxruntime (from -r requirements.txt (line 9))\n",
            "  Using cached onnxruntime-1.19.2-cp39-cp39-manylinux_2_27_x86_64.manylinux_2_28_x86_64.whl.metadata (4.5 kB)\n",
            "Collecting praat-parselmouth>=0.4.2 (from -r requirements.txt (line 10))\n",
            "  Using cached praat_parselmouth-0.4.5-cp39-cp39-manylinux_2_12_x86_64.manylinux2010_x86_64.whl.metadata (2.9 kB)\n",
            "Collecting pedalboard==0.7.7 (from -r requirements.txt (line 11))\n",
            "  Using cached pedalboard-0.7.7-cp39-cp39-manylinux_2_17_x86_64.manylinux2014_x86_64.whl.metadata (15 kB)\n",
            "Collecting pydub==0.25.1 (from -r requirements.txt (line 12))\n",
            "  Using cached pydub-0.25.1-py2.py3-none-any.whl.metadata (1.4 kB)\n",
            "Requirement already satisfied: pyworld==0.3.4 in /usr/local/lib/python3.9/dist-packages (from -r requirements.txt (line 13)) (0.3.4)\n",
            "Collecting Requests==2.31.0 (from -r requirements.txt (line 14))\n",
            "  Using cached requests-2.31.0-py3-none-any.whl.metadata (4.6 kB)\n",
            "Collecting scipy==1.11.1 (from -r requirements.txt (line 15))\n",
            "  Using cached scipy-1.11.1-cp39-cp39-manylinux_2_17_x86_64.manylinux2014_x86_64.whl.metadata (59 kB)\n",
            "Collecting soundfile==0.12.1 (from -r requirements.txt (line 16))\n",
            "  Using cached soundfile-0.12.1-py2.py3-none-manylinux_2_31_x86_64.whl.metadata (14 kB)\n",
            "Requirement already satisfied: torch==2.0.1+cu118 in /usr/local/lib/python3.9/dist-packages (from -r requirements.txt (line 18)) (2.0.1+cu118)\n",
            "Collecting torchcrepe==0.0.20 (from -r requirements.txt (line 19))\n",
            "  Using cached torchcrepe-0.0.20-py3-none-any.whl.metadata (7.8 kB)\n",
            "Collecting tqdm==4.65.0 (from -r requirements.txt (line 20))\n",
            "  Using cached tqdm-4.65.0-py3-none-any.whl.metadata (56 kB)\n",
            "Collecting yt_dlp==2023.7.6 (from -r requirements.txt (line 21))\n",
            "  Using cached yt_dlp-2023.7.6-py2.py3-none-any.whl.metadata (157 kB)\n",
            "Collecting sox==1.4.1 (from -r requirements.txt (line 22))\n",
            "  Using cached sox-1.4.1-py2.py3-none-any.whl.metadata (5.3 kB)\n",
            "Using cached faiss_cpu-1.7.3-cp39-cp39-manylinux_2_17_x86_64.manylinux2014_x86_64.whl (17.0 MB)\n",
            "Using cached gradio-3.39.0-py3-none-any.whl (19.9 MB)\n",
            "Using cached lib-4.0.0-py3-none-any.whl (4.0 kB)\n",
            "Using cached librosa-0.9.1-py3-none-any.whl (213 kB)\n",
            "Using cached numpy-1.23.5-cp39-cp39-manylinux_2_17_x86_64.manylinux2014_x86_64.whl (17.1 MB)\n",
            "Using cached pedalboard-0.7.7-cp39-cp39-manylinux_2_17_x86_64.manylinux2014_x86_64.whl (3.3 MB)\n",
            "Using cached pydub-0.25.1-py2.py3-none-any.whl (32 kB)\n",
            "Using cached requests-2.31.0-py3-none-any.whl (62 kB)\n",
            "Using cached scipy-1.11.1-cp39-cp39-manylinux_2_17_x86_64.manylinux2014_x86_64.whl (36.5 MB)\n",
            "Using cached soundfile-0.12.1-py2.py3-none-manylinux_2_31_x86_64.whl (1.2 MB)\n",
            "Using cached torchcrepe-0.0.20-py3-none-any.whl (72.3 MB)\n",
            "Using cached tqdm-4.65.0-py3-none-any.whl (77 kB)\n",
            "Using cached yt_dlp-2023.7.6-py2.py3-none-any.whl (3.0 MB)\n",
            "Using cached sox-1.4.1-py2.py3-none-any.whl (39 kB)\n",
            "Using cached deemix-3.6.6-py3-none-any.whl (51 kB)\n",
            "Using cached ffmpeg_python-0.2.0-py3-none-any.whl (25 kB)\n",
            "Using cached onnxruntime-1.19.2-cp39-cp39-manylinux_2_27_x86_64.manylinux_2_28_x86_64.whl (13.2 MB)\n",
            "Using cached praat_parselmouth-0.4.5-cp39-cp39-manylinux_2_12_x86_64.manylinux2010_x86_64.whl (10.7 MB)\n",
            "Installing collected packages: torchcrepe, sox, soundfile, pydub, pedalboard, onnxruntime, lib, ffmpeg-python, faiss-cpu, yt_dlp, tqdm, scipy, Requests, praat-parselmouth, numpy, librosa, gradio, deemix\n",
            "Successfully installed Requests-2.31.0 deemix-3.6.6 faiss-cpu-1.7.3 ffmpeg-python-0.2.0 gradio-3.39.0 lib-4.0.0 librosa-0.9.1 numpy-1.23.5 onnxruntime-1.19.2 pedalboard-0.7.7 praat-parselmouth-0.4.5 pydub-0.25.1 scipy-1.11.1 soundfile-0.12.1 sox-1.4.1 torchcrepe-0.0.20 tqdm-4.65.0 yt_dlp-2023.7.6\n",
            "Hit:1 https://cloud.r-project.org/bin/linux/ubuntu jammy-cran40/ InRelease\n",
            "Hit:2 https://developer.download.nvidia.com/compute/cuda/repos/ubuntu2204/x86_64  InRelease\n",
            "Hit:3 http://security.ubuntu.com/ubuntu jammy-security InRelease\n",
            "Hit:4 http://archive.ubuntu.com/ubuntu jammy InRelease\n",
            "Hit:5 https://r2u.stat.illinois.edu/ubuntu jammy InRelease\n",
            "Hit:6 http://archive.ubuntu.com/ubuntu jammy-updates InRelease\n",
            "Hit:7 http://archive.ubuntu.com/ubuntu jammy-backports InRelease\n",
            "Hit:8 https://ppa.launchpadcontent.net/deadsnakes/ppa/ubuntu jammy InRelease\n",
            "Hit:9 https://ppa.launchpadcontent.net/graphics-drivers/ppa/ubuntu jammy InRelease\n",
            "Hit:10 https://ppa.launchpadcontent.net/ubuntugis/ppa/ubuntu jammy InRelease\n",
            "Reading package lists... Done\n",
            "Building dependency tree... Done\n",
            "Reading state information... Done\n",
            "35 packages can be upgraded. Run 'apt list --upgradable' to see them.\n",
            "\u001b[1;33mW: \u001b[0mSkipping acquire of configured file 'main/source/Sources' as repository 'https://r2u.stat.illinois.edu/ubuntu jammy InRelease' does not seem to provide it (sources.list entry misspelt?)\u001b[0m\n",
            "Reading package lists... Done\n",
            "Building dependency tree... Done\n",
            "Reading state information... Done\n",
            "sox is already the newest version (14.4.2+git20190427-2+deb11u2ubuntu0.22.04.1).\n",
            "0 upgraded, 0 newly installed, 0 to remove and 35 not upgraded.\n"
          ]
        }
      ],
      "source": [
        "#@title Install requirements\n",
        "# Reinstall pip for Python 3.9\n",
        "# !curl -sS https://bootstrap.pypa.io/get-pip.py | python3\n",
        "# !python3.9 -m pip install \"pip<24.1\"\n",
        "!cat requirements.txt\n",
        "!python3.9 -m pip install torch==2.0.1+cu118 -f https://download.pytorch.org/whl/torch_stable.html --no-deps\n",
        "\n",
        "# Install system dependencies\n",
        "!apt-get update\n",
        "!apt-get install -y build-essential python3.9-dev libasound2-dev portaudio19-dev libportaudio2 libportaudiocpp0 ffmpeg\n",
        "\n",
        "# Install fairseq and pyworld separately first\n",
        "!python3.9 -m pip install fairseq==0.12.2 --no-deps\n",
        "!python3.9 -m pip install pyworld==0.3.4 --no-deps\n",
        "\n",
        "!python3.9 -m pip install -r requirements.txt --no-deps\n",
        "!sudo apt update\n",
        "!sudo apt install sox"
      ]
    },
    {
      "cell_type": "code",
      "source": [
        "#@title Test Python Package installs\n",
        "import sys\n",
        "print(f\"Python version: {sys.version}\")\n",
        "\n",
        "\n",
        "import gradio\n",
        "import numpy\n",
        "\n",
        "print(\"Hi!\")"
      ],
      "metadata": {
        "id": "KrFkEqbkeXlg",
        "outputId": "65d351d9-9f9c-438b-ef0b-d913d2c0d533",
        "colab": {
          "base_uri": "https://localhost:8080/"
        }
      },
      "execution_count": 35,
      "outputs": [
        {
          "output_type": "stream",
          "name": "stdout",
          "text": [
            "Python version: 3.11.12 (main, Apr  9 2025, 08:55:54) [GCC 11.4.0]\n",
            "Hi!\n"
          ]
        }
      ]
    },
    {
      "cell_type": "code",
      "execution_count": 6,
      "metadata": {
        "id": "w0q4k7WyMXHX",
        "cellView": "form",
        "colab": {
          "base_uri": "https://localhost:8080/"
        },
        "outputId": "92b3ebfc-2c5d-4a93-d4d9-1f66bc1499e4"
      },
      "outputs": [
        {
          "output_type": "stream",
          "name": "stdout",
          "text": [
            "Downloading UVR-MDX-NET-Voc_FT.onnx...\n",
            "Downloading UVR_MDXNET_KARA_2.onnx...\n",
            "Downloading Reverb_HQ_By_FoxJoy.onnx...\n",
            "Downloading hubert_base.pt...\n",
            "Downloading rmvpe.pt...\n",
            "All models downloaded!\n"
          ]
        }
      ],
      "source": [
        "#@title Download MDXNet Vocal Separation and Hubert Base Models\n",
        "!python src/download_models.py"
      ]
    },
    {
      "cell_type": "code",
      "execution_count": 7,
      "metadata": {
        "id": "9aMm_NgjUH4T",
        "cellView": "form",
        "colab": {
          "base_uri": "https://localhost:8080/"
        },
        "outputId": "8204bce8-f1d0-439f-d9f4-8af4b404ebc8"
      },
      "outputs": [
        {
          "output_type": "stream",
          "name": "stdout",
          "text": [
            "[~] Downloading voice model with name Gura...\n",
            "[~] Extracting zip...\n",
            "[+] Gura Model successfully downloaded!\n"
          ]
        }
      ],
      "source": [
        "#@title Model Download Function\n",
        "\n",
        "import os\n",
        "import zipfile\n",
        "import shutil\n",
        "import urllib.request\n",
        "\n",
        "BASE_DIR = os.getcwd()\n",
        "rvc_models_dir = os.path.join(BASE_DIR, 'rvc_models')\n",
        "\n",
        "def extract_zip(extraction_folder, zip_name):\n",
        "    os.makedirs(extraction_folder)\n",
        "    with zipfile.ZipFile(zip_name, 'r') as zip_ref:\n",
        "        zip_ref.extractall(extraction_folder)\n",
        "    os.remove(zip_name)\n",
        "\n",
        "    index_filepath, model_filepath = None, None\n",
        "    for root, dirs, files in os.walk(extraction_folder):\n",
        "        for name in files:\n",
        "            if name.endswith('.index') and os.stat(os.path.join(root, name)).st_size > 1024 * 100:\n",
        "                index_filepath = os.path.join(root, name)\n",
        "\n",
        "            if name.endswith('.pth') and os.stat(os.path.join(root, name)).st_size > 1024 * 1024 * 40:\n",
        "                model_filepath = os.path.join(root, name)\n",
        "\n",
        "    if not model_filepath:\n",
        "        raise Exception(f'No .pth model file was found in the extracted zip. Please check {extraction_folder}.')\n",
        "\n",
        "    # move model and index file to extraction folder\n",
        "    os.rename(model_filepath, os.path.join(extraction_folder, os.path.basename(model_filepath)))\n",
        "    if index_filepath:\n",
        "        os.rename(index_filepath, os.path.join(extraction_folder, os.path.basename(index_filepath)))\n",
        "\n",
        "    # remove any unnecessary nested folders\n",
        "    for filepath in os.listdir(extraction_folder):\n",
        "        if os.path.isdir(os.path.join(extraction_folder, filepath)):\n",
        "            shutil.rmtree(os.path.join(extraction_folder, filepath))\n",
        "\n",
        "def download_online_model(url, dir_name):\n",
        "    try:\n",
        "        print(f'[~] Downloading voice model with name {dir_name}...')\n",
        "        zip_name = url.split('/')[-1]\n",
        "        extraction_folder = os.path.join(rvc_models_dir, dir_name)\n",
        "        if os.path.exists(extraction_folder):\n",
        "            raise Exception(f'Voice model directory {dir_name} already exists! Choose a different name for your voice model.')\n",
        "\n",
        "        if 'pixeldrain.com' in url:\n",
        "            url = f'https://pixeldrain.com/api/file/{zip_name}'\n",
        "\n",
        "        urllib.request.urlretrieve(url, zip_name)\n",
        "\n",
        "        print('[~] Extracting zip...')\n",
        "        extract_zip(extraction_folder, zip_name)\n",
        "        print(f'[+] {dir_name} Model successfully downloaded!')\n",
        "\n",
        "    except Exception as e:\n",
        "        raise Exception(str(e))\n",
        "\n",
        "url = \"https://pixeldrain.com/u/3tJmABXA\" # @param {type:\"string\"}\n",
        "dir_name = \"Gura\" # @param {type:\"string\"}\n",
        "\n",
        "download_online_model(url, dir_name)"
      ]
    },
    {
      "cell_type": "code",
      "source": [
        "!pwd\n",
        "!ls -l"
      ],
      "metadata": {
        "id": "fp8nZDVhefLW",
        "outputId": "bb6a78c0-2fa0-4c95-c9d2-f4e862fe23a9",
        "colab": {
          "base_uri": "https://localhost:8080/"
        }
      },
      "execution_count": 5,
      "outputs": [
        {
          "output_type": "stream",
          "name": "stdout",
          "text": [
            "/content/AICoverGen\n",
            "total 68\n",
            "-rw-r--r-- 1 root root  3894 Apr 23 16:28 AICoverGen_colab.ipynb\n",
            "-rw-r--r-- 1 root root  1290 Apr 23 16:28 cog.yaml\n",
            "drwxr-xr-x 2 root root  4096 Apr 23 16:28 images\n",
            "-rw-r--r-- 1 root root  1074 Apr 23 16:28 LICENSE\n",
            "drwxr-xr-x 2 root root  4096 Apr 23 16:28 mdxnet_models\n",
            "-rw-r--r-- 1 root root 12601 Apr 23 16:28 predict.py\n",
            "-rw-r--r-- 1 root root 12744 Apr 23 16:28 README.md\n",
            "-rw-r--r-- 1 root root   396 Apr 23 16:28 requirements.txt\n",
            "drwxr-xr-x 2 root root  4096 Apr 23 16:28 rvc_models\n",
            "drwxr-xr-x 2 root root  4096 Apr 23 16:28 song_output\n",
            "drwxr-xr-x 4 root root  4096 Apr 23 16:28 src\n"
          ]
        }
      ]
    },
    {
      "cell_type": "code",
      "execution_count": 36,
      "metadata": {
        "id": "B3BqnUoePVGd",
        "colab": {
          "base_uri": "https://localhost:8080/"
        },
        "outputId": "528baacf-59aa-42f9-eec7-455d41265362"
      },
      "outputs": [
        {
          "output_type": "stream",
          "name": "stdout",
          "text": [
            "Traceback (most recent call last):\n",
            "  File \"/content/AICoverGen/src/main.py\", line 11, in <module>\n",
            "    import gradio as gr\n",
            "  File \"/usr/local/lib/python3.9/dist-packages/gradio/__init__.py\", line 3, in <module>\n",
            "    import gradio.components as components\n",
            "  File \"/usr/local/lib/python3.9/dist-packages/gradio/components/__init__.py\", line 1, in <module>\n",
            "    from gradio.components.annotated_image import AnnotatedImage\n",
            "  File \"/usr/local/lib/python3.9/dist-packages/gradio/components/annotated_image.py\", line 8, in <module>\n",
            "    from gradio_client.documentation import document, set_documentation_group\n",
            "ModuleNotFoundError: No module named 'gradio_client'\n"
          ]
        },
        {
          "output_type": "execute_result",
          "data": {
            "text/plain": [
              "1"
            ]
          },
          "metadata": {},
          "execution_count": 36
        }
      ],
      "source": [
        "# @title Generate | Output generated inside \"AICoverGen\\song_output\\random_number\"\n",
        "# @markdown Main Option | You also can input audio path inside \"SONG_INPUT\"\n",
        "SONG_INPUT = \"https://www.youtube.com/watch?v=jgCVkQhlScc&pp=ygUFY3VwaWQ%3D\" # @param {type:\"string\"}\n",
        "RVC_DIRNAME = \"Gura\" # @param {type:\"string\"}\n",
        "PITCH_CHANGE = 0 # @param {type:\"integer\"}\n",
        "PITCH_CHANGE_ALL = 0 # @param {type:\"integer\"}\n",
        "# @markdown Voice Conversion Options\n",
        "INDEX_RATE = 0.5 # @param {type:\"number\"}\n",
        "FILTER_RADIUS = 3 # @param {type:\"integer\"}\n",
        "PITCH_DETECTION_ALGO = \"rmvpe\" # @param [\"rmvpe\", \"mangio-crepe\"]\n",
        "CREPE_HOP_LENGTH = 128 # @param {type:\"integer\"}\n",
        "PROTECT = 0.33 # @param {type:\"number\"}\n",
        "REMIX_MIX_RATE = 0.25  # @param {type:\"number\"}\n",
        "# @markdown Audio Mixing Options\n",
        "MAIN_VOL = 0 # @param {type:\"integer\"}\n",
        "BACKUP_VOL = 0 # @param {type:\"integer\"}\n",
        "INST_VOL = 0 # @param {type:\"integer\"}\n",
        "# @markdown Reverb Control\n",
        "REVERB_SIZE = 0.15 # @param {type:\"number\"}\n",
        "REVERB_WETNESS = 0.2 # @param {type:\"number\"}\n",
        "REVERB_DRYNESS = 0.8 # @param {type:\"number\"}\n",
        "REVERB_DAMPING = 0.7 # @param {type:\"number\"}\n",
        "# @markdown Output Format\n",
        "OUTPUT_FORMAT = \"mp3\" # @param [\"mp3\", \"wav\"]\n",
        "\n",
        "import subprocess\n",
        "\n",
        "command = [\n",
        "    \"python3.9\",\n",
        "    \"src/main.py\",\n",
        "    \"-i\", SONG_INPUT,\n",
        "    \"-dir\", RVC_DIRNAME,\n",
        "    \"-p\", str(PITCH_CHANGE),\n",
        "    \"-k\",\n",
        "    \"-ir\", str(INDEX_RATE),\n",
        "    \"-fr\", str(FILTER_RADIUS),\n",
        "    \"-rms\", str(REMIX_MIX_RATE),\n",
        "    \"-palgo\", PITCH_DETECTION_ALGO,\n",
        "    \"-hop\", str(CREPE_HOP_LENGTH),\n",
        "    \"-pro\", str(PROTECT),\n",
        "    \"-mv\", str(MAIN_VOL),\n",
        "    \"-bv\", str(BACKUP_VOL),\n",
        "    \"-iv\", str(INST_VOL),\n",
        "    \"-pall\", str(PITCH_CHANGE_ALL),\n",
        "    \"-rsize\", str(REVERB_SIZE),\n",
        "    \"-rwet\", str(REVERB_WETNESS),\n",
        "    \"-rdry\", str(REVERB_DRYNESS),\n",
        "    \"-rdamp\", str(REVERB_DAMPING),\n",
        "    \"-oformat\", OUTPUT_FORMAT\n",
        "]\n",
        "\n",
        "# Open a subprocess and capture its output\n",
        "process = subprocess.Popen(command, stdout=subprocess.PIPE, stderr=subprocess.STDOUT, universal_newlines=True)\n",
        "\n",
        "# Print the output in real-time\n",
        "for line in process.stdout:\n",
        "    print(line, end='')\n",
        "\n",
        "# Wait for the process to finish\n",
        "process.wait()"
      ]
    },
    {
      "cell_type": "markdown",
      "source": [
        "Example of generated audio path\n",
        "\n",
        "![image_2023-09-20_182238723.png](data:image/png;base64,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)"
      ],
      "metadata": {
        "id": "7Hs7P0QYHHZJ"
      }
    }
  ],
  "metadata": {
    "accelerator": "GPU",
    "colab": {
      "provenance": [],
      "include_colab_link": true
    },
    "kernelspec": {
      "display_name": "Python 3",
      "name": "python3"
    },
    "language_info": {
      "name": "python"
    }
  },
  "nbformat": 4,
  "nbformat_minor": 0
}